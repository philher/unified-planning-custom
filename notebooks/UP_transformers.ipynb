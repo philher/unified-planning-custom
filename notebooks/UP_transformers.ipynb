{
  "nbformat": 4,
  "nbformat_minor": 0,
  "metadata": {
    "colab": {
      "name": "UP_transformers.ipynb",
      "provenance": [],
      "collapsed_sections": [
        "xYWfkR8Bwpan",
        "IuGE_oN-O7Eu"
      ],
      "toc_visible": true
    },
    "kernelspec": {
      "name": "python3",
      "display_name": "Python 3"
    },
    "language_info": {
      "name": "python"
    }
  },
  "cells": [
    {
      "cell_type": "markdown",
      "source": [
        "# unified_planning for classical planning\n",
        "\n",
        "This python notebook shows how to use the unified_planning library to model and solve a problem of classical planning"
      ],
      "metadata": {
        "id": "8obCt4Xku0PO"
      }
    },
    {
      "cell_type": "markdown",
      "source": [
        "# Download and install the library\n",
        "\n"
      ],
      "metadata": {
        "id": "MdxopCL8vdGf"
      }
    },
    {
      "cell_type": "code",
      "source": [
        "# begin of installation"
      ],
      "metadata": {
        "id": "CDE3zXqRdiCV"
      },
      "execution_count": 72,
      "outputs": []
    },
    {
      "cell_type": "code",
      "execution_count": 73,
      "metadata": {
        "colab": {
          "base_uri": "https://localhost:8080/"
        },
        "id": "wDpkXKgGuq1A",
        "outputId": "541d53f7-2e7a-4196-bca2-732d6c05da7f"
      },
      "outputs": [
        {
          "output_type": "stream",
          "name": "stdout",
          "text": [
            "Cloning into 'unified-planning'...\n",
            "remote: Enumerating objects: 9878, done.\u001b[K\n",
            "remote: Counting objects: 100% (1619/1619), done.\u001b[K\n",
            "remote: Compressing objects: 100% (323/323), done.\u001b[K\n",
            "remote: Total 9878 (delta 1402), reused 1418 (delta 1296), pack-reused 8259\u001b[K\n",
            "Receiving objects: 100% (9878/9878), 6.86 MiB | 12.74 MiB/s, done.\n",
            "Resolving deltas: 100% (7241/7241), done.\n",
            "Processing ./unified-planning\n",
            "\u001b[33m  DEPRECATION: A future pip version will change local packages to be built in-place without first copying to a temporary directory. We recommend you use --use-feature=in-tree-build to test your packages with this new behavior before it becomes the default.\n",
            "   pip 21.3 will remove support for this functionality. You can find discussion regarding this at https://github.com/pypa/pip/issues/7555.\u001b[0m\n",
            "Requirement already satisfied: pyparsing in /usr/local/lib/python3.7/dist-packages (from unified-planning==0.2.2.209.dev1) (3.0.8)\n",
            "Building wheels for collected packages: unified-planning\n",
            "  Building wheel for unified-planning (setup.py) ... \u001b[?25l\u001b[?25hdone\n",
            "  Created wheel for unified-planning: filename=unified_planning-0.2.2.209.dev1-py3-none-any.whl size=206025 sha256=f445a6c5eec269bf34e0376d2c201715ee47c37f91f9c5ec4972715ca76fc4f7\n",
            "  Stored in directory: /root/.cache/pip/wheels/39/76/dc/e931f4cadbf422f94c2bd4d50d321a135baa906f177667e7b5\n",
            "Successfully built unified-planning\n",
            "Installing collected packages: unified-planning\n",
            "  Attempting uninstall: unified-planning\n",
            "    Found existing installation: unified-planning 0.2.2.209.dev1\n",
            "    Uninstalling unified-planning-0.2.2.209.dev1:\n",
            "      Successfully uninstalled unified-planning-0.2.2.209.dev1\n",
            "Successfully installed unified-planning-0.2.2.209.dev1\n"
          ]
        }
      ],
      "source": [
        "!rm -rf unified-planning && git clone https://github.com/aiplan4eu/unified-planning && pip install unified-planning/"
      ]
    },
    {
      "cell_type": "markdown",
      "source": [
        "# Download and install Tamer"
      ],
      "metadata": {
        "id": "TN_ZQu0Fux1S"
      }
    },
    {
      "cell_type": "code",
      "source": [
        "!rm -rf up-tamer && git clone https://github.com/aiplan4eu/up-tamer && pip install up-tamer/"
      ],
      "metadata": {
        "colab": {
          "base_uri": "https://localhost:8080/"
        },
        "id": "iPO6UYXkwYHJ",
        "outputId": "19017486-5ddb-4db0-b76c-bd54e005583d"
      },
      "execution_count": 74,
      "outputs": [
        {
          "output_type": "stream",
          "name": "stdout",
          "text": [
            "Cloning into 'up-tamer'...\n",
            "remote: Enumerating objects: 438, done.\u001b[K\n",
            "remote: Counting objects: 100% (155/155), done.\u001b[K\n",
            "remote: Compressing objects: 100% (74/74), done.\u001b[K\n",
            "remote: Total 438 (delta 98), reused 96 (delta 79), pack-reused 283\u001b[K\n",
            "Receiving objects: 100% (438/438), 100.41 KiB | 842.00 KiB/s, done.\n",
            "Resolving deltas: 100% (261/261), done.\n",
            "Processing ./up-tamer\n",
            "\u001b[33m  DEPRECATION: A future pip version will change local packages to be built in-place without first copying to a temporary directory. We recommend you use --use-feature=in-tree-build to test your packages with this new behavior before it becomes the default.\n",
            "   pip 21.3 will remove support for this functionality. You can find discussion regarding this at https://github.com/pypa/pip/issues/7555.\u001b[0m\n",
            "Building wheels for collected packages: up-tamer\n",
            "  Building wheel for up-tamer (setup.py) ... \u001b[?25l\u001b[?25hdone\n",
            "  Created wheel for up-tamer: filename=up_tamer-0.0.1-py3-none-any.whl size=11819 sha256=9a8b2c35d527681532fc70a4f1b299cc898bd4251c3a67c1323ca7eb363539d7\n",
            "  Stored in directory: /root/.cache/pip/wheels/4c/7d/54/0e6493c780d4154683fd4e9b06bfbe263b2bc0f5f272a66972\n",
            "Successfully built up-tamer\n",
            "Installing collected packages: up-tamer\n",
            "  Attempting uninstall: up-tamer\n",
            "    Found existing installation: up-tamer 0.0.1\n",
            "    Uninstalling up-tamer-0.0.1:\n",
            "      Successfully uninstalled up-tamer-0.0.1\n",
            "Successfully installed up-tamer-0.0.1\n"
          ]
        }
      ]
    },
    {
      "cell_type": "code",
      "source": [
        "# end of installation"
      ],
      "metadata": {
        "id": "GnpUWGNBdldN"
      },
      "execution_count": 75,
      "outputs": []
    },
    {
      "cell_type": "markdown",
      "source": [
        "# Demo\n",
        "\n",
        "Now that the setup is done, we start using the library to create the problem."
      ],
      "metadata": {
        "id": "L_Y_a6vAwgqf"
      }
    },
    {
      "cell_type": "markdown",
      "source": [
        "# Imports\n",
        "\n",
        "Import the library and all the defined shortcuts, handy to get all the frequently used constructors and usage mode."
      ],
      "metadata": {
        "id": "xYWfkR8Bwpan"
      }
    },
    {
      "cell_type": "code",
      "source": [
        "import unified_planning as up\n",
        "from unified_planning.shortcuts import *"
      ],
      "metadata": {
        "id": "3jWqVxciwr97"
      },
      "execution_count": 76,
      "outputs": []
    },
    {
      "cell_type": "markdown",
      "source": [
        "# Create the problem:\n"
      ],
      "metadata": {
        "id": "jbhB2ALaMrfR"
      }
    },
    {
      "cell_type": "markdown",
      "source": [
        "- Define UserTypes"
      ],
      "metadata": {
        "id": "i2GZBJAxNC-k"
      }
    },
    {
      "cell_type": "code",
      "source": [
        "MAX_CAPACITY = None\n",
        "Entity = UserType('Entity')\n",
        "\n",
        "Location = UserType('Location', Entity)\n",
        "BigLocation = UserType('BigLocation', Location)\n",
        "State = UserType('State', BigLocation)\n",
        "Region = UserType('Region', BigLocation)\n",
        "Province = UserType('Province', BigLocation)\n",
        "\n",
        "SmallLocation = UserType('SmallLocation', Location)\n",
        "HealthDistrict = UserType('HealthDistrict', SmallLocation)\n",
        "\n",
        "Transport = UserType('Transport', Entity)\n",
        "BigTransport = UserType('BigTransport', Transport)\n",
        "Airplane = UserType('Airplane', BigTransport)\n",
        "Truck = UserType('Truck', BigTransport)\n",
        "\n",
        "SmallTransport = UserType('SmallTransport', Transport)\n",
        "Drone = UserType('Drone', SmallTransport)"
      ],
      "metadata": {
        "id": "IDlCML5YNLeZ"
      },
      "execution_count": 77,
      "outputs": []
    },
    {
      "cell_type": "markdown",
      "source": [
        "- Define fluents"
      ],
      "metadata": {
        "id": "YEaQdP6HNkw1"
      }
    },
    {
      "cell_type": "code",
      "source": [
        "geographically_belongs_to = Fluent('geographically_belongs_to', BoolType(), location=Location, delimiter=Location)\n",
        "has_airport = Fluent('has_airport', BoolType(), location=Location)\n",
        "is_at = Fluent('is_at', BoolType(), transport=Transport, position=Location)\n",
        "capacity = Fluent('capacity', IntType(lower_bound=1, upper_bound=MAX_CAPACITY), transport=Transport)\n",
        "n_of_vaccine_boxes = Fluent('n_of_vaccine_boxes', IntType(), object=Entity)\n",
        "needed_vaccine_boxes = Fluent('needed_vaccine_boxes', IntType(), location=SmallLocation)"
      ],
      "metadata": {
        "id": "817j5eCCNnb9"
      },
      "execution_count": 78,
      "outputs": []
    },
    {
      "cell_type": "markdown",
      "source": [
        "- Define actions\n",
        "\n",
        "  Only the first one is commented in-deep"
      ],
      "metadata": {
        "id": "hbwurL6eRTHA"
      }
    },
    {
      "cell_type": "code",
      "source": [
        "load = InstantaneousAction('load', l_from=Location, t_to=Transport)\n",
        "# Get the action parameters, defined through **kwargs\n",
        "l_from = load.parameter('l_from')\n",
        "t_to = load.parameter('t_to')\n",
        "# Specify the action preconditions\n",
        "load.add_precondition(is_at(t_to, l_from))\n",
        "load.add_precondition(GT(n_of_vaccine_boxes(l_from), 0))\n",
        "# Specify the action effects\n",
        "load.add_increase_effect(fluent=n_of_vaccine_boxes(t_to),   # The fluent to increase\n",
        "    value=1,                                                # The increment value\n",
        "    condition=GT(capacity(t_to), n_of_vaccine_boxes(t_to))) # The condition needed to apply the effect (capacity > n_of_vaccine_boxes) -> there is still space on the transport\n",
        "load.add_decrease_effect(fluent=n_of_vaccine_boxes(l_from), # The fluent to decrease\n",
        "    value=1,                                                # The decrement value\n",
        "    condition=GT(capacity(t_to), n_of_vaccine_boxes(t_to))) # The condition needed to apply the effect (capacity > n_of_vaccine_boxes) -> there is still space on the transport"
      ],
      "metadata": {
        "id": "MepQjvv1Rgl0"
      },
      "execution_count": 79,
      "outputs": []
    },
    {
      "cell_type": "code",
      "source": [
        "unload = InstantaneousAction('unload', l_to=Location, t_from=Transport)\n",
        "l_to = unload.parameter('l_to')\n",
        "t_from = unload.parameter('t_from')\n",
        "\n",
        "unload.add_precondition(is_at(t_from, l_to))\n",
        "\n",
        "unload.add_increase_effect(n_of_vaccine_boxes(l_to), 1, GT(n_of_vaccine_boxes(t_from), 0))\n",
        "unload.add_decrease_effect(n_of_vaccine_boxes(t_from), 1, GT(n_of_vaccine_boxes(t_from), 0))\n",
        "\n",
        "# Define a up.model.Variable, needed to create quantified expressions\n",
        "superior_location = Variable('mid_location', Location)\n",
        "\n",
        "move_airplane = InstantaneousAction('move_airplane', plane=Airplane, l_from=BigLocation, l_to=BigLocation)\n",
        "plane = move_airplane.parameter('plane')\n",
        "l_from = move_airplane.parameter('l_from')\n",
        "l_to = move_airplane.parameter('l_to')\n",
        "\n",
        "move_airplane.add_precondition(has_airport(l_from))\n",
        "move_airplane.add_precondition(has_airport(l_to))\n",
        "move_airplane.add_precondition(is_at(plane, l_from))\n",
        "move_airplane.add_precondition(Not(is_at(plane, l_to)))\n",
        "move_airplane.add_precondition(Or(geographically_belongs_to(l_from, l_to),\n",
        "                            geographically_belongs_to(l_to, l_from),\n",
        "                            Exists(And(geographically_belongs_to(l_from, superior_location),\n",
        "                                    geographically_belongs_to(l_to, superior_location)),\n",
        "                            superior_location)))\n",
        "\n",
        "move_airplane.add_effect(is_at(plane, l_from), False)\n",
        "move_airplane.add_effect(is_at(plane, l_to), True)\n",
        "\n",
        "move_truck = InstantaneousAction('move_truck', truck=Truck, l_from=BigLocation, l_to=BigLocation)\n",
        "truck = move_truck.parameter('truck')\n",
        "l_from = move_truck.parameter('l_from')\n",
        "l_to = move_truck.parameter('l_to')\n",
        "\n",
        "move_truck.add_precondition(is_at(truck, l_from))\n",
        "move_truck.add_precondition(Not(is_at(truck, l_to)))\n",
        "move_truck.add_precondition(Or(geographically_belongs_to(l_from, l_to),\n",
        "                        geographically_belongs_to(l_to, l_from),\n",
        "                        Exists(And(geographically_belongs_to(l_from, superior_location),\n",
        "                                geographically_belongs_to(l_to, superior_location)),\n",
        "                        superior_location)))\n",
        "\n",
        "move_truck.add_effect(is_at(truck, l_from), False)\n",
        "move_truck.add_effect(is_at(truck, l_to), True)\n",
        "\n",
        "send_drone = InstantaneousAction('send_drone', drone=Drone, l_from=Province, l_to=HealthDistrict)\n",
        "drone = send_drone.parameter('drone')\n",
        "l_from = send_drone.parameter('l_from')\n",
        "l_to = send_drone.parameter('l_to')\n",
        "\n",
        "send_drone.add_precondition(is_at(drone, l_from))\n",
        "send_drone.add_precondition(Not(is_at(drone, l_to)))\n",
        "send_drone.add_precondition(geographically_belongs_to(l_to, l_from))\n",
        "\n",
        "send_drone.add_effect(is_at(drone, l_from), False)\n",
        "send_drone.add_effect(is_at(drone, l_to), True)\n",
        "\n",
        "retrieve_drone = InstantaneousAction('retrieve_drone', drone=Drone, l_from=HealthDistrict, l_to=Province)\n",
        "drone = retrieve_drone.parameter('drone')\n",
        "l_from = retrieve_drone.parameter('l_from')\n",
        "l_to = retrieve_drone.parameter('l_to')\n",
        "\n",
        "retrieve_drone.add_precondition(is_at(drone, l_from))\n",
        "retrieve_drone.add_precondition(Not(is_at(drone, l_to)))\n",
        "retrieve_drone.add_precondition(geographically_belongs_to(l_from, l_to))\n",
        "\n",
        "retrieve_drone.add_effect(is_at(drone, l_from), False)\n",
        "retrieve_drone.add_effect(is_at(drone, l_to), True)\n"
      ],
      "metadata": {
        "id": "YkYCSTAvRpui"
      },
      "execution_count": 80,
      "outputs": []
    },
    {
      "cell_type": "markdown",
      "source": [
        "- Define the problem and add fluents. The defaut_initial_value argument is used to avoid the verbosity of specifying for every possible application of that fluent his inital value (like for geographically_belongs, that takes 2 locations, we avoid writing it for every possible couple of Locations, but as default it is False, and we only set it at True for the couple of Locations that we want this fluent to be True. How to do this will be seen after the Objects are defined and added to the Problem)."
      ],
      "metadata": {
        "id": "DfR-t3soVfq4"
      }
    },
    {
      "cell_type": "code",
      "source": [
        "problem = Problem('vaccine_boxes_distribution')\n",
        "problem.add_fluent(geographically_belongs_to, default_initial_value=False)\n",
        "problem.add_fluent(has_airport, default_initial_value=False)\n",
        "problem.add_fluent(is_at, default_initial_value=False)\n",
        "problem.add_fluent(capacity)\n",
        "problem.add_fluent(n_of_vaccine_boxes, default_initial_value=0)\n",
        "problem.add_fluent(needed_vaccine_boxes, default_initial_value=3)"
      ],
      "metadata": {
        "id": "kLM_1D5LVlVo"
      },
      "execution_count": 81,
      "outputs": []
    },
    {
      "cell_type": "markdown",
      "source": [
        "- Add actions to the problem"
      ],
      "metadata": {
        "id": "k3MEx4RSeGFX"
      }
    },
    {
      "cell_type": "code",
      "source": [
        "problem.add_action(load)\n",
        "problem.add_action(unload)\n",
        "problem.add_action(move_airplane)\n",
        "problem.add_action(move_truck)\n",
        "problem.add_action(send_drone)\n",
        "problem.add_action(retrieve_drone)"
      ],
      "metadata": {
        "id": "ih6pFrC_eJsm"
      },
      "execution_count": 82,
      "outputs": []
    },
    {
      "cell_type": "markdown",
      "source": [
        "- Add the problem goal"
      ],
      "metadata": {
        "id": "pJFbJ-RoeTPj"
      }
    },
    {
      "cell_type": "code",
      "source": [
        "goal_var = Variable('goal_var', SmallLocation)\n",
        "problem.add_goal(Forall(GE(n_of_vaccine_boxes(goal_var), needed_vaccine_boxes(goal_var)), goal_var))"
      ],
      "metadata": {
        "id": "LC3t7KTceWwe"
      },
      "execution_count": 83,
      "outputs": []
    },
    {
      "cell_type": "markdown",
      "source": [
        "- Define state geography through the up.model.Object and add them to the problem.\n",
        "\n"
      ],
      "metadata": {
        "id": "ji8v03dGbyBX"
      }
    },
    {
      "cell_type": "code",
      "source": [
        "italy = Object('italy', State)\n",
        "problem.set_initial_value(n_of_vaccine_boxes(italy), 500)\n",
        "\n",
        "trentino_alto_adige = Object('trentino_alto_adige', Region)\n",
        "lombardia = Object('lombardia', Region)\n",
        "veneto = Object('veneto', Region)\n",
        "\n",
        "trento = Object('trento', Province)\n",
        "bolzano = Object('bolzano', Province)\n",
        "\n",
        "milano = Object('milano', Province)\n",
        "bergamo = Object('bergamo', Province)\n",
        "\n",
        "verona = Object('verona', Province)\n",
        "venezia = Object('venezia', Province)\n",
        "\n",
        "gardolo = Object('gardolo', HealthDistrict)\n",
        "ravina = Object('ravina', HealthDistrict)\n",
        "mattarello = Object('mattarello', HealthDistrict)\n",
        "\n",
        "laives = Object('laives', HealthDistrict)\n",
        "san_genesio = Object('san_genesio', HealthDistrict)\n",
        "\n",
        "rho = Object('rho', HealthDistrict)\n",
        "rozzano = Object('rozzano', HealthDistrict)\n",
        "\n",
        "seriate = Object('seriate', HealthDistrict)\n",
        "curno = Object('curno', HealthDistrict)\n",
        "\n",
        "marzana = Object('marzana', HealthDistrict)\n",
        "rizza = Object('rizza', HealthDistrict)\n",
        "\n",
        "murano = Object('murano', HealthDistrict)\n",
        "cavallino = Object('cavallino', HealthDistrict)\n",
        "\n",
        "problem.add_objects([italy, trentino_alto_adige, lombardia, veneto, trento, bolzano, milano, bergamo,\n",
        "verona, venezia, gardolo, ravina, mattarello, laives, san_genesio, rho, rozzano, seriate,\n",
        "curno, marzana, rizza, murano, cavallino])"
      ],
      "metadata": {
        "id": "rvkWCt71b3G0"
      },
      "execution_count": 84,
      "outputs": []
    },
    {
      "cell_type": "markdown",
      "source": [
        "- Give a meaning to the state geography through the fluents"
      ],
      "metadata": {
        "id": "o7uU4n2JcI17"
      }
    },
    {
      "cell_type": "code",
      "source": [
        "geographically_belongs_to = Fluent('geographically_belongs_to', BoolType(), location=Location, delimiter=Location)\n",
        "has_airport = Fluent('has_airport', BoolType(), location=Location)\n",
        "is_at = Fluent('is_at', BoolType(), transport=Transport, position=Location)\n",
        "\n",
        "problem.set_initial_value(geographically_belongs_to(trentino_alto_adige, italy), True)\n",
        "problem.set_initial_value(geographically_belongs_to(lombardia, italy), True)\n",
        "problem.set_initial_value(geographically_belongs_to(veneto, italy), True)\n",
        "problem.set_initial_value(has_airport(italy), True)\n",
        "\n",
        "problem.set_initial_value(geographically_belongs_to(trento, trentino_alto_adige), True)\n",
        "problem.set_initial_value(geographically_belongs_to(bolzano, trentino_alto_adige), True)\n",
        "\n",
        "problem.set_initial_value(geographically_belongs_to(gardolo, trentino_alto_adige), True)\n",
        "problem.set_initial_value(geographically_belongs_to(ravina, trentino_alto_adige), True)\n",
        "problem.set_initial_value(geographically_belongs_to(mattarello, trentino_alto_adige), True)\n",
        "\n",
        "problem.set_initial_value(geographically_belongs_to(laives, bolzano), True)\n",
        "problem.set_initial_value(geographically_belongs_to(san_genesio, bolzano), True)\n",
        "\n",
        "problem.set_initial_value(geographically_belongs_to(milano, lombardia), True)\n",
        "problem.set_initial_value(geographically_belongs_to(bergamo, lombardia), True)\n",
        "problem.set_initial_value(has_airport(lombardia), True)\n",
        "\n",
        "problem.set_initial_value(geographically_belongs_to(rho, milano), True)\n",
        "problem.set_initial_value(geographically_belongs_to(rozzano, milano), True)\n",
        "problem.set_initial_value(has_airport(milano), True)\n",
        "\n",
        "problem.set_initial_value(geographically_belongs_to(seriate, bergamo), True)\n",
        "problem.set_initial_value(geographically_belongs_to(curno, bergamo), True)\n",
        "problem.set_initial_value(has_airport(bergamo), True)\n",
        "\n",
        "problem.set_initial_value(geographically_belongs_to(verona, veneto), True)\n",
        "problem.set_initial_value(geographically_belongs_to(venezia, veneto), True)\n",
        "problem.set_initial_value(has_airport(veneto), True)\n",
        "\n",
        "problem.set_initial_value(geographically_belongs_to(marzana, verona), True)\n",
        "problem.set_initial_value(geographically_belongs_to(rizza, verona), True)\n",
        "problem.set_initial_value(has_airport(verona), True)\n",
        "\n",
        "problem.set_initial_value(geographically_belongs_to(murano, venezia), True)\n",
        "problem.set_initial_value(geographically_belongs_to(cavallino, venezia), True)"
      ],
      "metadata": {
        "id": "NwuedETscOQ_"
      },
      "execution_count": 85,
      "outputs": []
    },
    {
      "cell_type": "markdown",
      "source": [
        "- Define airplanes, add them to the problem and give them the right inital values"
      ],
      "metadata": {
        "id": "8fT8_tPEQi3w"
      }
    },
    {
      "cell_type": "code",
      "source": [
        "lufthansa = Object('lufthansa', Airplane)\n",
        "problem.add_object(lufthansa)\n",
        "problem.set_initial_value(capacity(lufthansa), 20)\n",
        "problem.set_initial_value(is_at(lufthansa, italy), True)\n",
        "ryanair_1 = Object('ryanair_1', Airplane)\n",
        "problem.add_object(ryanair_1)\n",
        "problem.set_initial_value(capacity(ryanair_1), 10)\n",
        "problem.set_initial_value(is_at(ryanair_1, italy), True)\n",
        "ryanair_2 = Object('ryanair_2', Airplane)\n",
        "problem.add_object(ryanair_2)\n",
        "problem.set_initial_value(capacity(ryanair_2), 5)\n",
        "problem.set_initial_value(is_at(ryanair_2, italy), True)"
      ],
      "metadata": {
        "id": "2HGzDGlaQzOy"
      },
      "execution_count": 86,
      "outputs": []
    },
    {
      "cell_type": "markdown",
      "source": [
        "- Define trucks, add them to the problem and give them the right inital values"
      ],
      "metadata": {
        "id": "BaoKYWUlRHJO"
      }
    },
    {
      "cell_type": "code",
      "source": [
        "scania_1 = Object('scania_1', Truck)\n",
        "problem.add_object(scania_1)\n",
        "problem.set_initial_value(capacity(scania_1), 3)\n",
        "problem.set_initial_value(is_at(scania_1, italy), True)\n",
        "scania_2 = Object('scania_2', Truck)\n",
        "problem.add_object(scania_2)\n",
        "problem.set_initial_value(capacity(scania_2), 3)\n",
        "problem.set_initial_value(is_at(scania_2, italy), True)\n",
        "scania_3 = Object('scania_3', Truck)\n",
        "problem.add_object(scania_3)\n",
        "problem.set_initial_value(capacity(scania_3), 3)\n",
        "problem.set_initial_value(is_at(scania_3, italy), True)\n",
        "daf_1 = Object('daf_1', Truck)\n",
        "problem.add_object(daf_1)\n",
        "problem.set_initial_value(capacity(daf_1), 2)\n",
        "problem.set_initial_value(is_at(daf_1, italy), True)\n",
        "daf_2 = Object('daf_2', Truck)\n",
        "problem.add_object(daf_2)\n",
        "problem.set_initial_value(capacity(daf_2), 2)\n",
        "problem.set_initial_value(is_at(daf_2, italy), True)\n",
        "daf_3 = Object('daf_3', Truck)\n",
        "problem.add_object(daf_3)\n",
        "problem.set_initial_value(capacity(daf_3), 2)\n",
        "problem.set_initial_value(is_at(daf_3, italy), True)\n",
        "daf_4 = Object('daf_4', Truck)\n",
        "problem.add_object(daf_4)\n",
        "problem.set_initial_value(capacity(daf_4), 2)\n",
        "problem.set_initial_value(is_at(daf_4, italy), True)\n",
        "daf_5 = Object('daf_5', Truck)\n",
        "problem.add_object(daf_5)\n",
        "problem.set_initial_value(capacity(daf_5), 2)\n",
        "problem.set_initial_value(is_at(daf_5, italy), True)"
      ],
      "metadata": {
        "id": "w63QdV1IRMOd"
      },
      "execution_count": 87,
      "outputs": []
    },
    {
      "cell_type": "markdown",
      "source": [
        "- Define drones, add them to the problem and give them the right inital values"
      ],
      "metadata": {
        "id": "lS7E50ieRMj0"
      }
    },
    {
      "cell_type": "code",
      "source": [
        "drone_trento = Object('drone_trento', Drone)\n",
        "problem.add_object(drone_trento)\n",
        "problem.set_initial_value(capacity(drone_trento), 1)\n",
        "problem.set_initial_value(is_at(drone_trento, trento), True)\n",
        "drone_bolzano = Object('drone_bolzano', Drone)\n",
        "problem.add_object(drone_bolzano)\n",
        "problem.set_initial_value(capacity(drone_bolzano), 1)\n",
        "problem.set_initial_value(is_at(drone_bolzano, bolzano), True)\n",
        "drone_milano = Object('drone_milano', Drone)\n",
        "problem.add_object(drone_milano)\n",
        "problem.set_initial_value(capacity(drone_milano), 1)\n",
        "problem.set_initial_value(is_at(drone_milano, milano), True)\n",
        "drone_bergamo = Object('drone_bergamo', Drone)\n",
        "problem.add_object(drone_bergamo)\n",
        "problem.set_initial_value(capacity(drone_bergamo), 1)\n",
        "problem.set_initial_value(is_at(drone_bergamo, bergamo), True)\n",
        "drone_verona = Object('drone_verona', Drone)\n",
        "problem.add_object(drone_verona)\n",
        "problem.set_initial_value(capacity(drone_verona), 1)\n",
        "problem.set_initial_value(is_at(drone_verona, verona), True)\n",
        "drone_venezia = Object('drone_venezia', Drone)\n",
        "problem.add_object(drone_venezia)\n",
        "problem.set_initial_value(capacity(drone_venezia), 1)\n",
        "problem.set_initial_value(is_at(drone_venezia, venezia), True)"
      ],
      "metadata": {
        "id": "tXS0yqfQRQ4W"
      },
      "execution_count": 88,
      "outputs": []
    },
    {
      "cell_type": "markdown",
      "source": [
        "# Problem defined, time to use Transformers\n",
        "\n",
        "The transformers - such as the ConditionalEffectsRemover - take an instance of the problem with a specific feature - such as conditional effects - and transform a up.model.Problem with the specific feature in an equivalent up.model.Problem without said feature.\n",
        "\n",
        "They are pretty easy to use and share the same interface."
      ],
      "metadata": {
        "id": "q_1AQQAdSkRM"
      }
    },
    {
      "cell_type": "markdown",
      "source": [
        "#Conditional Effects Remover"
      ],
      "metadata": {
        "id": "IuGE_oN-O7Eu"
      }
    },
    {
      "cell_type": "code",
      "source": [
        "cond_eff_rem = up.transformers.ConditionalEffectsRemover(problem) # Define the Transformer\n",
        "unconditional_problem = cond_eff_rem.get_rewritten_problem() # Rewrite the problem\n",
        "load = problem.action('load') # Retrieve an action we know to have conditional effects and print it\n",
        "print('Action with conditional effects:')\n",
        "print(load)\n",
        "for i, unconditional_action in enumerate(cond_eff_rem.get_transformed_actions(load)): # Iterate on the actions that the transformer created by the load action.\n",
        "  print(f'Derived action number {str(i+1)}:')\n",
        "  print(unconditional_action)"
      ],
      "metadata": {
        "id": "TRkxvLnxTdPL",
        "colab": {
          "base_uri": "https://localhost:8080/"
        },
        "outputId": "3faabbc5-1462-47c9-f7d1-7d290d638e11"
      },
      "execution_count": 89,
      "outputs": [
        {
          "output_type": "stream",
          "name": "stdout",
          "text": [
            "Action with conditional effects:\n",
            "action load(Location - Entity l_from, Transport - Entity t_to) {\n",
            "    preconditions = [\n",
            "      is_at(t_to, l_from)\n",
            "      (0 < n_of_vaccine_boxes(l_from))\n",
            "    ]\n",
            "    effects = [\n",
            "      if (n_of_vaccine_boxes(t_to) < capacity(t_to)) then n_of_vaccine_boxes(t_to) += 1\n",
            "      if (n_of_vaccine_boxes(t_to) < capacity(t_to)) then n_of_vaccine_boxes(l_from) -= 1\n",
            "    ]\n",
            "    simulated effect = None\n",
            "  }\n",
            "Derived action number 1:\n",
            "action cerm_load_0(Location - Entity l_from, Transport - Entity t_to) {\n",
            "    preconditions = [\n",
            "      is_at(t_to, l_from)\n",
            "      (0 < n_of_vaccine_boxes(l_from))\n",
            "      (n_of_vaccine_boxes(t_to) < capacity(t_to))\n",
            "    ]\n",
            "    effects = [\n",
            "      n_of_vaccine_boxes(t_to) += 1\n",
            "      n_of_vaccine_boxes(l_from) -= 1\n",
            "    ]\n",
            "    simulated effect = None\n",
            "  }\n"
          ]
        }
      ]
    },
    {
      "cell_type": "markdown",
      "source": [
        "#Quantifiers Remover"
      ],
      "metadata": {
        "id": "qn8QNrvQPUs2"
      }
    },
    {
      "cell_type": "code",
      "source": [
        "quant_rem = up.transformers.QuantifiersRemover(problem) # Define the Transformer\n",
        "transformed_problem = quant_rem.get_rewritten_problem() # Rewrite the problem\n",
        "move_airplane = problem.action('move_airplane') # Retrieve an action we know to have quantifiers and print it\n",
        "print('Action with quantifiers:')\n",
        "print(move_airplane)\n",
        "for i, transformed_action in enumerate(quant_rem.get_transformed_actions(move_airplane)): # Iterate on the actions that the transformer created by the move_airplane action, we expect only one result.\n",
        "  print(f'Derived action number {str(i+1)}:')\n",
        "  print(transformed_action)"
      ],
      "metadata": {
        "colab": {
          "base_uri": "https://localhost:8080/"
        },
        "id": "4IpbnD2MPqq1",
        "outputId": "9e7d3713-df7b-47a1-882c-f7876ad1e406"
      },
      "execution_count": 90,
      "outputs": [
        {
          "output_type": "stream",
          "name": "stdout",
          "text": [
            "Action with quantifiers:\n",
            "action move_airplane(Airplane - BigTransport plane, BigLocation - Location l_from, BigLocation - Location l_to) {\n",
            "    preconditions = [\n",
            "      has_airport(l_from)\n",
            "      has_airport(l_to)\n",
            "      is_at(plane, l_from)\n",
            "      (not is_at(plane, l_to))\n",
            "      (geographically_belongs_to(l_from, l_to) or geographically_belongs_to(l_to, l_from) or Exists (Location - Entity mid_location) (geographically_belongs_to(l_from, mid_location) and geographically_belongs_to(l_to, mid_location)))\n",
            "    ]\n",
            "    effects = [\n",
            "      is_at(plane, l_from) := false\n",
            "      is_at(plane, l_to) := true\n",
            "    ]\n",
            "    simulated effect = None\n",
            "  }\n",
            "Derived action number 1:\n",
            "action qurm_move_airplane_0(Airplane - BigTransport plane, BigLocation - Location l_from, BigLocation - Location l_to) {\n",
            "    preconditions = [\n",
            "      has_airport(l_from)\n",
            "      has_airport(l_to)\n",
            "      is_at(plane, l_from)\n",
            "      (not is_at(plane, l_to))\n",
            "      (geographically_belongs_to(l_from, l_to) or geographically_belongs_to(l_to, l_from) or ((geographically_belongs_to(l_from, italy) and geographically_belongs_to(l_to, italy)) or (geographically_belongs_to(l_from, trentino_alto_adige) and geographically_belongs_to(l_to, trentino_alto_adige)) or (geographically_belongs_to(l_from, lombardia) and geographically_belongs_to(l_to, lombardia)) or (geographically_belongs_to(l_from, veneto) and geographically_belongs_to(l_to, veneto)) or (geographically_belongs_to(l_from, trento) and geographically_belongs_to(l_to, trento)) or (geographically_belongs_to(l_from, bolzano) and geographically_belongs_to(l_to, bolzano)) or (geographically_belongs_to(l_from, milano) and geographically_belongs_to(l_to, milano)) or (geographically_belongs_to(l_from, bergamo) and geographically_belongs_to(l_to, bergamo)) or (geographically_belongs_to(l_from, verona) and geographically_belongs_to(l_to, verona)) or (geographically_belongs_to(l_from, venezia) and geographically_belongs_to(l_to, venezia)) or (geographically_belongs_to(l_from, gardolo) and geographically_belongs_to(l_to, gardolo)) or (geographically_belongs_to(l_from, ravina) and geographically_belongs_to(l_to, ravina)) or (geographically_belongs_to(l_from, mattarello) and geographically_belongs_to(l_to, mattarello)) or (geographically_belongs_to(l_from, laives) and geographically_belongs_to(l_to, laives)) or (geographically_belongs_to(l_from, san_genesio) and geographically_belongs_to(l_to, san_genesio)) or (geographically_belongs_to(l_from, rho) and geographically_belongs_to(l_to, rho)) or (geographically_belongs_to(l_from, rozzano) and geographically_belongs_to(l_to, rozzano)) or (geographically_belongs_to(l_from, seriate) and geographically_belongs_to(l_to, seriate)) or (geographically_belongs_to(l_from, curno) and geographically_belongs_to(l_to, curno)) or (geographically_belongs_to(l_from, marzana) and geographically_belongs_to(l_to, marzana)) or (geographically_belongs_to(l_from, rizza) and geographically_belongs_to(l_to, rizza)) or (geographically_belongs_to(l_from, murano) and geographically_belongs_to(l_to, murano)) or (geographically_belongs_to(l_from, cavallino) and geographically_belongs_to(l_to, cavallino))))\n",
            "    ]\n",
            "    effects = [\n",
            "      is_at(plane, l_from) := false\n",
            "      is_at(plane, l_to) := true\n",
            "    ]\n",
            "    simulated effect = None\n",
            "  }\n"
          ]
        }
      ]
    },
    {
      "cell_type": "markdown",
      "source": [
        "In the printing above, we see how the precondition \n",
        "\n",
        "```\n",
        "Exists (Location - Entity mid_location) (geographically_belongs_to(l_from, mid_location) and geographically_belongs_to(l_to, mid_location))\n",
        "```\n",
        "\n",
        "Became his instantiated version over all the objects of `Location` type.\n",
        "\n",
        "Here the long version: \n",
        "\n",
        "\n",
        "```\n",
        "((geographically_belongs_to(l_from, italy) and geographically_belongs_to(l_to, italy)) or (geographically_belongs_to(l_from, trentino_alto_adige) and geographically_belongs_to(l_to, trentino_alto_adige)) or (geographically_belongs_to(l_from, lombardia) and geographically_belongs_to(l_to, lombardia)) or (geographically_belongs_to(l_from, veneto) and geographically_belongs_to(l_to, veneto)) or (geographically_belongs_to(l_from, trento) and geographically_belongs_to(l_to, trento)) or (geographically_belongs_to(l_from, bolzano) and geographically_belongs_to(l_to, bolzano)) or (geographically_belongs_to(l_from, milano) and geographically_belongs_to(l_to, milano)) or (geographically_belongs_to(l_from, bergamo) and geographically_belongs_to(l_to, bergamo)) or (geographically_belongs_to(l_from, verona) and geographically_belongs_to(l_to, verona)) or (geographically_belongs_to(l_from, venezia) and geographically_belongs_to(l_to, venezia)) or (geographically_belongs_to(l_from, gardolo) and geographically_belongs_to(l_to, gardolo)) or (geographically_belongs_to(l_from, ravina) and geographically_belongs_to(l_to, ravina)) or (geographically_belongs_to(l_from, mattarello) and geographically_belongs_to(l_to, mattarello)) or (geographically_belongs_to(l_from, laives) and geographically_belongs_to(l_to, laives)) or (geographically_belongs_to(l_from, san_genesio) and geographically_belongs_to(l_to, san_genesio)) or (geographically_belongs_to(l_from, rho) and geographically_belongs_to(l_to, rho)) or (geographically_belongs_to(l_from, rozzano) and geographically_belongs_to(l_to, rozzano)) or (geographically_belongs_to(l_from, seriate) and geographically_belongs_to(l_to, seriate)) or (geographically_belongs_to(l_from, curno) and geographically_belongs_to(l_to, curno)) or (geographically_belongs_to(l_from, marzana) and geographically_belongs_to(l_to, marzana)) or (geographically_belongs_to(l_from, rizza) and geographically_belongs_to(l_to, rizza)) or (geographically_belongs_to(l_from, murano) and geographically_belongs_to(l_to, murano)) or (geographically_belongs_to(l_from, cavallino) and geographically_belongs_to(l_to, cavallino)))\n",
        "```\n",
        "\n",
        "\n",
        "\n",
        "\n"
      ],
      "metadata": {
        "id": "8aWC-6klWlCI"
      }
    },
    {
      "cell_type": "markdown",
      "source": [
        "Also the goal is modified, the `Forall` is removed and is replaced with an equivalent `And`; important to note that the `And` and the `Forall` are equivalent only in this particular problem.\n",
        "\n"
      ],
      "metadata": {
        "id": "sgAepz9k1dO3"
      }
    },
    {
      "cell_type": "code",
      "source": [
        "print(\"Original goal:\")\n",
        "print(problem.goals[0])\n",
        "print(\"Goal without quantifiers:\")\n",
        "print(transformed_problem.goals[0])"
      ],
      "metadata": {
        "colab": {
          "base_uri": "https://localhost:8080/"
        },
        "id": "9BTexzWnWkrj",
        "outputId": "de4f6928-bf5c-480d-da0b-1826b9c9b7b4"
      },
      "execution_count": 91,
      "outputs": [
        {
          "output_type": "stream",
          "name": "stdout",
          "text": [
            "Original goal:\n",
            "Forall (SmallLocation - Location goal_var) (needed_vaccine_boxes(goal_var) <= n_of_vaccine_boxes(goal_var))\n",
            "Goal without quantifiers:\n",
            "((needed_vaccine_boxes(gardolo) <= n_of_vaccine_boxes(gardolo)) and (needed_vaccine_boxes(ravina) <= n_of_vaccine_boxes(ravina)) and (needed_vaccine_boxes(mattarello) <= n_of_vaccine_boxes(mattarello)) and (needed_vaccine_boxes(laives) <= n_of_vaccine_boxes(laives)) and (needed_vaccine_boxes(san_genesio) <= n_of_vaccine_boxes(san_genesio)) and (needed_vaccine_boxes(rho) <= n_of_vaccine_boxes(rho)) and (needed_vaccine_boxes(rozzano) <= n_of_vaccine_boxes(rozzano)) and (needed_vaccine_boxes(seriate) <= n_of_vaccine_boxes(seriate)) and (needed_vaccine_boxes(curno) <= n_of_vaccine_boxes(curno)) and (needed_vaccine_boxes(marzana) <= n_of_vaccine_boxes(marzana)) and (needed_vaccine_boxes(rizza) <= n_of_vaccine_boxes(rizza)) and (needed_vaccine_boxes(murano) <= n_of_vaccine_boxes(murano)) and (needed_vaccine_boxes(cavallino) <= n_of_vaccine_boxes(cavallino)))\n"
          ]
        }
      ]
    },
    {
      "cell_type": "markdown",
      "source": [
        "# Disjunctive Conditions Remover\n",
        "\n"
      ],
      "metadata": {
        "id": "oHiLRFOoNOQF"
      }
    },
    {
      "cell_type": "code",
      "source": [
        "disj_rem = up.transformers.DisjunctiveConditionsRemover(problem) # Define the Transformer\n",
        "disj_problem = disj_rem.get_rewritten_problem() # Rewrite the problem\n",
        "move_truck = problem.action('move_truck') # Retrieve an action we know to have quantifiers and print it\n",
        "print('Action with disjunctive preconditions:')\n",
        "print(move_truck)\n",
        "for i, transformed_action in enumerate(disj_rem.get_transformed_actions(move_truck)): # Iterate on the actions that the transformer created by the move_truck action, we expect 3 results.\n",
        "  print(f'Derived action number {str(i+1)}:')\n",
        "  print(transformed_action)"
      ],
      "metadata": {
        "colab": {
          "base_uri": "https://localhost:8080/"
        },
        "id": "-K1ntlPeOaus",
        "outputId": "10fd0ba1-8fec-4d60-e681-eb7befce8cf8"
      },
      "execution_count": 92,
      "outputs": [
        {
          "output_type": "stream",
          "name": "stdout",
          "text": [
            "Action with disjunctive preconditions:\n",
            "action move_truck(Truck - BigTransport truck, BigLocation - Location l_from, BigLocation - Location l_to) {\n",
            "    preconditions = [\n",
            "      is_at(truck, l_from)\n",
            "      (not is_at(truck, l_to))\n",
            "      (geographically_belongs_to(l_from, l_to) or geographically_belongs_to(l_to, l_from) or Exists (Location - Entity mid_location) (geographically_belongs_to(l_from, mid_location) and geographically_belongs_to(l_to, mid_location)))\n",
            "    ]\n",
            "    effects = [\n",
            "      is_at(truck, l_from) := false\n",
            "      is_at(truck, l_to) := true\n",
            "    ]\n",
            "    simulated effect = None\n",
            "  }\n",
            "Derived action number 1:\n",
            "action djrm_move_truck_0(Truck - BigTransport truck, BigLocation - Location l_from, BigLocation - Location l_to) {\n",
            "    preconditions = [\n",
            "      is_at(truck, l_from)\n",
            "      (not is_at(truck, l_to))\n",
            "      geographically_belongs_to(l_from, l_to)\n",
            "    ]\n",
            "    effects = [\n",
            "      is_at(truck, l_from) := false\n",
            "      is_at(truck, l_to) := true\n",
            "    ]\n",
            "    simulated effect = None\n",
            "  }\n",
            "Derived action number 2:\n",
            "action djrm_move_truck_1(Truck - BigTransport truck, BigLocation - Location l_from, BigLocation - Location l_to) {\n",
            "    preconditions = [\n",
            "      is_at(truck, l_from)\n",
            "      (not is_at(truck, l_to))\n",
            "      geographically_belongs_to(l_to, l_from)\n",
            "    ]\n",
            "    effects = [\n",
            "      is_at(truck, l_from) := false\n",
            "      is_at(truck, l_to) := true\n",
            "    ]\n",
            "    simulated effect = None\n",
            "  }\n",
            "Derived action number 3:\n",
            "action djrm_move_truck_2(Truck - BigTransport truck, BigLocation - Location l_from, BigLocation - Location l_to) {\n",
            "    preconditions = [\n",
            "      is_at(truck, l_from)\n",
            "      (not is_at(truck, l_to))\n",
            "      Exists (Location - Entity mid_location) (geographically_belongs_to(l_from, mid_location) and geographically_belongs_to(l_to, mid_location))\n",
            "    ]\n",
            "    effects = [\n",
            "      is_at(truck, l_from) := false\n",
            "      is_at(truck, l_to) := true\n",
            "    ]\n",
            "    simulated effect = None\n",
            "  }\n"
          ]
        }
      ]
    },
    {
      "cell_type": "markdown",
      "source": [
        "# Negative conditions remover\n",
        "\n",
        "The Negative Conditions Remover, in order to be used, needs the expressions to be in NNF, so instad of using the Negative Conditions Remover on the original problem, we apply a pipeline of the 3 removers shown before and then we apply it."
      ],
      "metadata": {
        "id": "Aa6dT6P6fmID"
      }
    },
    {
      "cell_type": "code",
      "source": [
        "cer = up.transformers.ConditionalEffectsRemover(problem, '') # The second argument is the name of the Remover. The name is applied in front of every action, so in a pipeline is better to make it ''.\n",
        "qur = up.transformers.QuantifiersRemover(cer.get_rewritten_problem(), '')\n",
        "dcr = up.transformers.DisjunctiveConditionsRemover(qur.get_rewritten_problem(), '')\n",
        "ncr = up.transformers.NegativeConditionsRemover(dcr.get_rewritten_problem(), '')\n",
        "\n",
        "final_problem = ncr.get_rewritten_problem()\n",
        "\n",
        "print(\"Original problem kind:\")\n",
        "print(problem.kind)\n",
        "print(\"\\n\\nTransformed problem kind:\")\n",
        "print(final_problem.kind)"
      ],
      "metadata": {
        "colab": {
          "base_uri": "https://localhost:8080/"
        },
        "id": "Nulkfn9lgRb4",
        "outputId": "467c825b-63b7-4b37-f312-9fe0bec8696f"
      },
      "execution_count": 93,
      "outputs": [
        {
          "output_type": "stream",
          "name": "stdout",
          "text": [
            "Original problem kind:\n",
            "NUMBERS: ['DISCRETE_NUMBERS']\n",
            "CONDITIONS_KIND: ['EXISTENTIAL_CONDITIONS', 'NEGATIVE_CONDITIONS', 'DISJUNCTIVE_CONDITIONS', 'UNIVERSAL_CONDITIONS']\n",
            "EFFECTS_KIND: ['CONDITIONAL_EFFECTS']\n",
            "TYPING: ['HIERARCHICAL_TYPING', 'FLAT_TYPING']\n",
            "FLUENTS_TYPE: ['NUMERIC_FLUENTS']\n",
            "\n",
            "\n",
            "Transformed problem kind:\n",
            "NUMBERS: ['DISCRETE_NUMBERS']\n",
            "EFFECTS_KIND: ['DECREASE_EFFECTS', 'INCREASE_EFFECTS']\n",
            "TYPING: ['HIERARCHICAL_TYPING', 'FLAT_TYPING']\n",
            "FLUENTS_TYPE: ['NUMERIC_FLUENTS']\n"
          ]
        }
      ]
    },
    {
      "cell_type": "markdown",
      "source": [
        "As we see from the problem kind, the transformers removed all the `CONDITIONS_KIND` and the `CONDITIONAL_EFFECTS` kind.\n",
        "\n"
      ],
      "metadata": {
        "id": "HrJCdAl7vDSN"
      }
    }
  ]
}